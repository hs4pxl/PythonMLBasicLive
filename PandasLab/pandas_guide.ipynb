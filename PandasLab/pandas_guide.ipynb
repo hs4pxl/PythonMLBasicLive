{
 "cells": [
  {
   "cell_type": "code",
   "execution_count": 1,
   "metadata": {},
   "outputs": [],
   "source": [
    "#### 1. ติดตั้ง pandas"
   ]
  },
  {
   "cell_type": "code",
   "execution_count": 2,
   "metadata": {},
   "outputs": [
    {
     "name": "stdout",
     "output_type": "stream",
     "text": [
      "Collecting pandas\n",
      "  Obtaining dependency information for pandas from https://files.pythonhosted.org/packages/ae/d9/3741b344f57484b423cd22194025a8489992ad9962196a62721ef9980045/pandas-2.1.4-cp312-cp312-win_amd64.whl.metadata\n",
      "  Downloading pandas-2.1.4-cp312-cp312-win_amd64.whl.metadata (18 kB)\n",
      "Requirement already satisfied: numpy<2,>=1.26.0 in c:\\works-panyapol\\training\\itg - python machine learning\\pythonmlbasiclive\\env\\lib\\site-packages (from pandas) (1.26.3)\n",
      "Requirement already satisfied: python-dateutil>=2.8.2 in c:\\works-panyapol\\training\\itg - python machine learning\\pythonmlbasiclive\\env\\lib\\site-packages (from pandas) (2.8.2)\n",
      "Collecting pytz>=2020.1 (from pandas)\n",
      "  Obtaining dependency information for pytz>=2020.1 from https://files.pythonhosted.org/packages/32/4d/aaf7eff5deb402fd9a24a1449a8119f00d74ae9c2efa79f8ef9994261fc2/pytz-2023.3.post1-py2.py3-none-any.whl.metadata\n",
      "  Downloading pytz-2023.3.post1-py2.py3-none-any.whl.metadata (22 kB)\n",
      "Collecting tzdata>=2022.1 (from pandas)\n",
      "  Obtaining dependency information for tzdata>=2022.1 from https://files.pythonhosted.org/packages/a3/fb/52b62131e21b24ee297e4e95ed41eba29647dad0e0051a92bb66b43c70ff/tzdata-2023.4-py2.py3-none-any.whl.metadata\n",
      "  Downloading tzdata-2023.4-py2.py3-none-any.whl.metadata (1.4 kB)\n",
      "Requirement already satisfied: six>=1.5 in c:\\works-panyapol\\training\\itg - python machine learning\\pythonmlbasiclive\\env\\lib\\site-packages (from python-dateutil>=2.8.2->pandas) (1.16.0)\n",
      "Downloading pandas-2.1.4-cp312-cp312-win_amd64.whl (10.5 MB)\n",
      "   ---------------------------------------- 0.0/10.5 MB ? eta -:--:--\n",
      "    --------------------------------------- 0.2/10.5 MB 5.8 MB/s eta 0:00:02\n",
      "   -- ------------------------------------- 0.6/10.5 MB 7.7 MB/s eta 0:00:02\n",
      "   --- ------------------------------------ 0.9/10.5 MB 7.0 MB/s eta 0:00:02\n",
      "   ---- ----------------------------------- 1.3/10.5 MB 7.6 MB/s eta 0:00:02\n",
      "   ------ --------------------------------- 1.8/10.5 MB 8.3 MB/s eta 0:00:02\n",
      "   --------- ------------------------------ 2.5/10.5 MB 9.4 MB/s eta 0:00:01\n",
      "   ------------ --------------------------- 3.4/10.5 MB 10.7 MB/s eta 0:00:01\n",
      "   ---------------- ----------------------- 4.3/10.5 MB 11.8 MB/s eta 0:00:01\n",
      "   -------------------- ------------------- 5.3/10.5 MB 13.1 MB/s eta 0:00:01\n",
      "   ------------------------- -------------- 6.7/10.5 MB 14.8 MB/s eta 0:00:01\n",
      "   ------------------------------ --------- 8.1/10.5 MB 16.2 MB/s eta 0:00:01\n",
      "   ------------------------------------ --- 9.5/10.5 MB 17.4 MB/s eta 0:00:01\n",
      "   ---------------------------------------  10.5/10.5 MB 19.8 MB/s eta 0:00:01\n",
      "   ---------------------------------------- 10.5/10.5 MB 18.2 MB/s eta 0:00:00\n",
      "Downloading pytz-2023.3.post1-py2.py3-none-any.whl (502 kB)\n",
      "   ---------------------------------------- 0.0/502.5 kB ? eta -:--:--\n",
      "   --------------------------------------- 502.5/502.5 kB 15.9 MB/s eta 0:00:00\n",
      "Downloading tzdata-2023.4-py2.py3-none-any.whl (346 kB)\n",
      "   ---------------------------------------- 0.0/346.6 kB ? eta -:--:--\n",
      "   --------------------------------------- 346.6/346.6 kB 22.4 MB/s eta 0:00:00\n",
      "Installing collected packages: pytz, tzdata, pandas\n",
      "Successfully installed pandas-2.1.4 pytz-2023.3.post1 tzdata-2023.4\n"
     ]
    },
    {
     "name": "stderr",
     "output_type": "stream",
     "text": [
      "\n",
      "[notice] A new release of pip is available: 23.2.1 -> 23.3.2\n",
      "[notice] To update, run: python.exe -m pip install --upgrade pip\n"
     ]
    }
   ],
   "source": [
    "!pip install pandas"
   ]
  },
  {
   "cell_type": "markdown",
   "metadata": {},
   "source": [
    "#### 2. โหลดชุดข้อมูลจาก csv มาเป็น DataFrame"
   ]
  },
  {
   "cell_type": "code",
   "execution_count": null,
   "metadata": {},
   "outputs": [],
   "source": []
  }
 ],
 "metadata": {
  "kernelspec": {
   "display_name": "env",
   "language": "python",
   "name": "python3"
  },
  "language_info": {
   "codemirror_mode": {
    "name": "ipython",
    "version": 3
   },
   "file_extension": ".py",
   "mimetype": "text/x-python",
   "name": "python",
   "nbconvert_exporter": "python",
   "pygments_lexer": "ipython3",
   "version": "3.12.1"
  }
 },
 "nbformat": 4,
 "nbformat_minor": 2
}
